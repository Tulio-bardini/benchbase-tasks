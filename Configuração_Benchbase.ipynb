{
 "cells": [
  {
   "cell_type": "markdown",
   "metadata": {},
   "source": [
    "Para rodar o Cockroach através do Docker usamos os seguintes comandos."
   ]
  },
  {
   "cell_type": "code",
   "execution_count": null,
   "metadata": {
    "vscode": {
     "languageId": "bat"
    }
   },
   "outputs": [],
   "source": [
    "sudo docker network create -d bridge roachnet"
   ]
  },
  {
   "cell_type": "markdown",
   "metadata": {},
   "source": [
    "Posteriormente construimos um cluster do CockroachDB."
   ]
  },
  {
   "cell_type": "code",
   "execution_count": null,
   "metadata": {
    "vscode": {
     "languageId": "bat"
    }
   },
   "outputs": [],
   "source": [
    "sudo docker run -d \\\n",
    "--name=roach1 \\\n",
    "--hostname=roach1 \\\n",
    "--net=roachnet \\\n",
    "-p 26257:26257 -p 8080:8080  \\\n",
    "-v \"${PWD}/cockroach-data/roach1:/cockroach/cockroach-data\"  \\\n",
    "cockroachdb/cockroach:v21.2.7 start \\\n",
    "--insecure \\\n",
    "--join=roach1"
   ]
  },
  {
   "cell_type": "markdown",
   "metadata": {},
   "source": [
    "Para inciar o cluster usamos:"
   ]
  },
  {
   "cell_type": "code",
   "execution_count": null,
   "metadata": {
    "vscode": {
     "languageId": "bat"
    }
   },
   "outputs": [],
   "source": [
    "sudo docker exec -it roach1 ./cockroach sql --insecure"
   ]
  },
  {
   "cell_type": "markdown",
   "metadata": {},
   "source": [
    "Logo após a execução do código o terminal irá abrir o terminal do cockroach. Assim, vamos poder criar os Databases que iremos testar com o BenchBase.\n",
    "O código a seguir mostra "
   ]
  }
 ],
 "metadata": {
  "language_info": {
   "name": "python"
  },
  "orig_nbformat": 4
 },
 "nbformat": 4,
 "nbformat_minor": 2
}
