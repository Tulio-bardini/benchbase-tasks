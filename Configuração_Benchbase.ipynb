{
 "cells": [
  {
   "cell_type": "markdown",
   "metadata": {},
   "source": [
    "Etapa 1:Rodando o banco de dados com Docker"
   ]
  },
  {
   "cell_type": "markdown",
   "metadata": {},
   "source": [
    "Caso 1: CockroachDB"
   ]
  },
  {
   "cell_type": "markdown",
   "metadata": {},
   "source": [
    "Para rodar o Cockroach através do Docker usamos os seguintes comandos:"
   ]
  },
  {
   "cell_type": "code",
   "execution_count": null,
   "metadata": {
    "vscode": {
     "languageId": "bat"
    }
   },
   "outputs": [],
   "source": [
    "sudo docker network create -d bridge roachnet"
   ]
  },
  {
   "cell_type": "markdown",
   "metadata": {},
   "source": [
    "Posteriormente construimos um cluster do CockroachDB."
   ]
  },
  {
   "cell_type": "code",
   "execution_count": null,
   "metadata": {
    "vscode": {
     "languageId": "bat"
    }
   },
   "outputs": [],
   "source": [
    "sudo docker run -d \\\n",
    "--name=roach1 \\\n",
    "--hostname=roach1 \\\n",
    "--net=roachnet \\\n",
    "-p 26257:26257 -p 8080:8080  \\\n",
    "-v \"${PWD}/cockroach-data/roach1:/cockroach/cockroach-data\"  \\\n",
    "cockroachdb/cockroach:v21.2.7 start \\\n",
    "--insecure \\\n",
    "--join=roach1"
   ]
  },
  {
   "cell_type": "markdown",
   "metadata": {},
   "source": [
    "Para inciar o cluster usamos:"
   ]
  },
  {
   "cell_type": "code",
   "execution_count": null,
   "metadata": {
    "vscode": {
     "languageId": "bat"
    }
   },
   "outputs": [],
   "source": [
    "sudo docker exec -it roach1 ./cockroach sql --insecure"
   ]
  },
  {
   "cell_type": "markdown",
   "metadata": {},
   "source": [
    "Caso 2: Postgresql"
   ]
  },
  {
   "cell_type": "markdown",
   "metadata": {},
   "source": [
    "Para rodar a imagem do postgrtes através do docker precisamos apenas usar o comando:"
   ]
  },
  {
   "cell_type": "code",
   "execution_count": null,
   "metadata": {
    "vscode": {
     "languageId": "bat"
    }
   },
   "outputs": [],
   "source": [
    "sudo docker run -p 5432:5432 -e POSTGRES_PASSWORD=1234 postgres"
   ]
  },
  {
   "cell_type": "markdown",
   "metadata": {},
   "source": [
    "Logo após a criação dos containers dos BDs no docker, precisamos criar os databases para efetivamente usar nosso benchmark. Recomendamos o uso do DBeaver para conectar-se com os bancos e criar os databases.\n",
    "Os databases são sempre recriados a cada teste, com o uso dos comandos a baixo:"
   ]
  },
  {
   "cell_type": "code",
   "execution_count": null,
   "metadata": {
    "vscode": {
     "languageId": "sql"
    }
   },
   "outputs": [],
   "source": [
    "create database voter_base;\n",
    "drop database voter_base;"
   ]
  },
  {
   "cell_type": "markdown",
   "metadata": {},
   "source": [
    "Etapa 2: Configurando o XML do BenchBase "
   ]
  },
  {
   "cell_type": "markdown",
   "metadata": {},
   "source": [
    "Depois de criado o database, precisamos configurar o BenchBase. Ele pode ser configurado através dos arquivos XML que ficam no destino target/benchbase-2021-SNAPSHOT/config. A seguir temos a configuração usada para o voter. Contudo, tanto para outros Benchmarks, como para outros BDs a configuração do arquivo Xml é bastante similar."
   ]
  },
  {
   "cell_type": "code",
   "execution_count": null,
   "metadata": {
    "vscode": {
     "languageId": "xml"
    }
   },
   "outputs": [],
   "source": [
    "<?xml version=\"1.0\"?>\n",
    "<parameters>\n",
    "\n",
    "    <!-- Connection details -->\n",
    "    <type>POSTGRES</type>\n",
    "    <driver>org.postgresql.Driver</driver>\n",
    "    <url>jdbc:postgresql://localhost:5432/voter_base?sslmode=disable&amp;ApplicationName=voter&amp;reWriteBatchedInserts=true</url>\n",
    "    <username>postgres</username>\n",
    "    <password>1234</password>\n",
    "    <isolation>TRANSACTION_SERIALIZABLE</isolation>\n",
    "    <batchsize>128</batchsize>\n",
    "\n",
    "    <scalefactor>10</scalefactor>\n",
    "\n",
    "    <!-- The workload -->\n",
    "    <terminals>10</terminals>\n",
    "    <works>\n",
    "        <work>\n",
    "            <time>150</time>\n",
    "            <rate>10000</rate>\n",
    "            <weights>100</weights>\n",
    "        </work>\n",
    "    </works>\n",
    "\n",
    "    <!-- Voter Procedures declaration -->\n",
    "    <transactiontypes>\n",
    "        <transactiontype>\n",
    "            <name>Vote</name>\n",
    "        </transactiontype>\n",
    "    </transactiontypes>\n",
    "</parameters>"
   ]
  },
  {
   "cell_type": "markdown",
   "metadata": {},
   "source": [
    "Etapa 3: Execução do benchmark"
   ]
  },
  {
   "cell_type": "markdown",
   "metadata": {},
   "source": [
    "Depois dos databases criados, e do arquivo de configuração pronto, podemos enfim executar o BenchBase. Para isso devemos abrir um terminal no local target/benchbase-2021-SNAPSHOT e executar o seguinte comando."
   ]
  },
  {
   "cell_type": "code",
   "execution_count": null,
   "metadata": {
    "vscode": {
     "languageId": "bat"
    }
   },
   "outputs": [],
   "source": [
    "java -jar benchbase.jar -b voter -c config/postgres/sample_voter_config.xml --create=true --load=true --execute=true"
   ]
  },
  {
   "cell_type": "markdown",
   "metadata": {},
   "source": [
    "O BenchBase irá executar pelo tempo que foi definido no arquivo Xml, e depois do tempo decorrido era imprimir no terminal todos os resultados obtidos."
   ]
  }
 ],
 "metadata": {
  "language_info": {
   "name": "python"
  },
  "orig_nbformat": 4
 },
 "nbformat": 4,
 "nbformat_minor": 2
}
